{
 "cells": [
  {
   "cell_type": "markdown",
   "id": "99112b5e",
   "metadata": {},
   "source": [
    "### Problem Statement "
   ]
  },
  {
   "cell_type": "markdown",
   "id": "9240b7b2",
   "metadata": {},
   "source": [
    "The project checks the factors affecting the Air Quality is affected by the factors like pm25, pm10, o3, n02, co etc. "
   ]
  },
  {
   "cell_type": "markdown",
   "id": "a72b240e",
   "metadata": {},
   "source": [
    "### Data Collection "
   ]
  },
  {
   "cell_type": "markdown",
   "id": "c034ff3a",
   "metadata": {},
   "source": [
    "#### Installing the Library for generating the Data "
   ]
  },
  {
   "cell_type": "code",
   "execution_count": 3,
   "id": "69364cf2",
   "metadata": {},
   "outputs": [
    {
     "name": "stdout",
     "output_type": "stream",
     "text": [
      "Requirement already satisfied: faker in d:\\samith\\github\\air-quality-health-alert-system\\venv\\lib\\site-packages (37.5.3)\n",
      "Requirement already satisfied: tzdata in d:\\samith\\github\\air-quality-health-alert-system\\venv\\lib\\site-packages (from faker) (2025.2)\n",
      "Note: you may need to restart the kernel to use updated packages.\n"
     ]
    }
   ],
   "source": [
    "pip install faker \n"
   ]
  },
  {
   "cell_type": "markdown",
   "id": "2dfe2859",
   "metadata": {},
   "source": [
    "#### Generating the synthetic data  and saving the folder "
   ]
  },
  {
   "cell_type": "code",
   "execution_count": 4,
   "id": "af7ab6fc",
   "metadata": {},
   "outputs": [
    {
     "name": "stdout",
     "output_type": "stream",
     "text": [
      "Dataset generated: 9130 rows, 16 columns\n"
     ]
    },
    {
     "data": {
      "text/html": [
       "<div>\n",
       "<style scoped>\n",
       "    .dataframe tbody tr th:only-of-type {\n",
       "        vertical-align: middle;\n",
       "    }\n",
       "\n",
       "    .dataframe tbody tr th {\n",
       "        vertical-align: top;\n",
       "    }\n",
       "\n",
       "    .dataframe thead th {\n",
       "        text-align: right;\n",
       "    }\n",
       "</style>\n",
       "<table border=\"1\" class=\"dataframe\">\n",
       "  <thead>\n",
       "    <tr style=\"text-align: right;\">\n",
       "      <th></th>\n",
       "      <th>date</th>\n",
       "      <th>city</th>\n",
       "      <th>latitude</th>\n",
       "      <th>longitude</th>\n",
       "      <th>pm25</th>\n",
       "      <th>pm10</th>\n",
       "      <th>o3</th>\n",
       "      <th>no2</th>\n",
       "      <th>so2</th>\n",
       "      <th>co</th>\n",
       "      <th>aqi</th>\n",
       "      <th>temperature_c</th>\n",
       "      <th>humidity_percent</th>\n",
       "      <th>wind_speed_mps</th>\n",
       "      <th>month</th>\n",
       "      <th>day</th>\n",
       "    </tr>\n",
       "  </thead>\n",
       "  <tbody>\n",
       "    <tr>\n",
       "      <th>0</th>\n",
       "      <td>2019-01-01</td>\n",
       "      <td>Washington</td>\n",
       "      <td>38.9072</td>\n",
       "      <td>-77.0369</td>\n",
       "      <td>15.66</td>\n",
       "      <td>16.18</td>\n",
       "      <td>41.83</td>\n",
       "      <td>19.95</td>\n",
       "      <td>6.67</td>\n",
       "      <td>0.35</td>\n",
       "      <td>44</td>\n",
       "      <td>9.92</td>\n",
       "      <td>87.5</td>\n",
       "      <td>8.8</td>\n",
       "      <td>1</td>\n",
       "      <td>1</td>\n",
       "    </tr>\n",
       "    <tr>\n",
       "      <th>1</th>\n",
       "      <td>2019-01-02</td>\n",
       "      <td>Washington</td>\n",
       "      <td>38.9072</td>\n",
       "      <td>-77.0369</td>\n",
       "      <td>14.83</td>\n",
       "      <td>26.00</td>\n",
       "      <td>19.03</td>\n",
       "      <td>22.74</td>\n",
       "      <td>3.75</td>\n",
       "      <td>0.34</td>\n",
       "      <td>25</td>\n",
       "      <td>13.82</td>\n",
       "      <td>32.6</td>\n",
       "      <td>9.7</td>\n",
       "      <td>1</td>\n",
       "      <td>2</td>\n",
       "    </tr>\n",
       "    <tr>\n",
       "      <th>2</th>\n",
       "      <td>2019-01-03</td>\n",
       "      <td>Washington</td>\n",
       "      <td>38.9072</td>\n",
       "      <td>-77.0369</td>\n",
       "      <td>7.21</td>\n",
       "      <td>26.41</td>\n",
       "      <td>41.90</td>\n",
       "      <td>13.15</td>\n",
       "      <td>4.08</td>\n",
       "      <td>0.59</td>\n",
       "      <td>41</td>\n",
       "      <td>7.55</td>\n",
       "      <td>65.0</td>\n",
       "      <td>4.2</td>\n",
       "      <td>1</td>\n",
       "      <td>3</td>\n",
       "    </tr>\n",
       "    <tr>\n",
       "      <th>3</th>\n",
       "      <td>2019-01-04</td>\n",
       "      <td>Washington</td>\n",
       "      <td>38.9072</td>\n",
       "      <td>-77.0369</td>\n",
       "      <td>13.27</td>\n",
       "      <td>33.97</td>\n",
       "      <td>35.20</td>\n",
       "      <td>20.98</td>\n",
       "      <td>5.64</td>\n",
       "      <td>0.59</td>\n",
       "      <td>31</td>\n",
       "      <td>22.04</td>\n",
       "      <td>65.1</td>\n",
       "      <td>6.6</td>\n",
       "      <td>1</td>\n",
       "      <td>4</td>\n",
       "    </tr>\n",
       "    <tr>\n",
       "      <th>4</th>\n",
       "      <td>2019-01-05</td>\n",
       "      <td>Washington</td>\n",
       "      <td>38.9072</td>\n",
       "      <td>-77.0369</td>\n",
       "      <td>13.92</td>\n",
       "      <td>26.74</td>\n",
       "      <td>28.19</td>\n",
       "      <td>16.44</td>\n",
       "      <td>4.59</td>\n",
       "      <td>0.55</td>\n",
       "      <td>29</td>\n",
       "      <td>21.00</td>\n",
       "      <td>66.1</td>\n",
       "      <td>3.8</td>\n",
       "      <td>1</td>\n",
       "      <td>5</td>\n",
       "    </tr>\n",
       "  </tbody>\n",
       "</table>\n",
       "</div>"
      ],
      "text/plain": [
       "         date        city  latitude  longitude   pm25   pm10     o3    no2  \\\n",
       "0  2019-01-01  Washington   38.9072   -77.0369  15.66  16.18  41.83  19.95   \n",
       "1  2019-01-02  Washington   38.9072   -77.0369  14.83  26.00  19.03  22.74   \n",
       "2  2019-01-03  Washington   38.9072   -77.0369   7.21  26.41  41.90  13.15   \n",
       "3  2019-01-04  Washington   38.9072   -77.0369  13.27  33.97  35.20  20.98   \n",
       "4  2019-01-05  Washington   38.9072   -77.0369  13.92  26.74  28.19  16.44   \n",
       "\n",
       "    so2    co  aqi  temperature_c  humidity_percent  wind_speed_mps  month  \\\n",
       "0  6.67  0.35   44           9.92              87.5             8.8      1   \n",
       "1  3.75  0.34   25          13.82              32.6             9.7      1   \n",
       "2  4.08  0.59   41           7.55              65.0             4.2      1   \n",
       "3  5.64  0.59   31          22.04              65.1             6.6      1   \n",
       "4  4.59  0.55   29          21.00              66.1             3.8      1   \n",
       "\n",
       "   day  \n",
       "0    1  \n",
       "1    2  \n",
       "2    3  \n",
       "3    4  \n",
       "4    5  "
      ]
     },
     "execution_count": 4,
     "metadata": {},
     "output_type": "execute_result"
    }
   ],
   "source": [
    "import pandas as pd\n",
    "import numpy as np\n",
    "from faker import Faker\n",
    "import random\n",
    "from datetime import datetime, timedelta\n",
    "\n",
    "\n",
    "fake = Faker()\n",
    "\n",
    "\n",
    "cities = [\n",
    "    {\"city\": \"Washington\", \"lat\": 38.9072, \"lon\": -77.0369},\n",
    "    {\"city\": \"Los Angeles\", \"lat\": 34.0522, \"lon\": -118.2437},\n",
    "    {\"city\": \"Chicago\", \"lat\": 41.8781, \"lon\": -87.6298},\n",
    "    {\"city\": \"Miami\", \"lat\": 25.7617, \"lon\": -80.1918},\n",
    "    {\"city\": \"Phoenix\", \"lat\": 33.4484, \"lon\": -112.0740},\n",
    "]\n",
    "\n",
    "start_date = datetime(2019, 1, 1)\n",
    "end_date = datetime(2023, 12, 31)\n",
    "\n",
    "\n",
    "date_range = pd.date_range(start=start_date, end=end_date, freq='D')\n",
    "\n",
    "# Function to simulate pollutant values with some seasonal variation\n",
    "def seasonal_value(base, variation, month):\n",
    "    seasonal_factor = 1 + 0.2 * np.sin((month - 1) / 12 * 2 * np.pi)  # seasonal cycle\n",
    "    return round(np.clip(base * seasonal_factor + random.uniform(-variation, variation), 0, None), 2)\n",
    "\n",
    "\n",
    "records = []\n",
    "\n",
    "for city in cities:\n",
    "    for date in date_range:\n",
    "        month = date.month\n",
    "        \n",
    "   \n",
    "        pm25 = seasonal_value(12, 5, month)\n",
    "        pm10 = seasonal_value(25, 10, month)\n",
    "        o3 = seasonal_value(30, 12, month)\n",
    "        no2 = seasonal_value(20, 8, month)\n",
    "        so2 = seasonal_value(5, 2, month)\n",
    "        co = seasonal_value(0.5, 0.2, month)\n",
    "        \n",
    "        \n",
    "        aqi = int(max(pm25, pm10/2, o3, no2) + random.uniform(-5, 5))\n",
    "        aqi = np.clip(aqi, 0, 500)\n",
    "        \n",
    "       \n",
    "        temp = seasonal_value(15, 10, month)  # °C\n",
    "        humidity = round(random.uniform(30, 90), 1)  # %\n",
    "        wind_speed = round(random.uniform(0.5, 10), 1)  # m/s\n",
    "        \n",
    "        records.append({\n",
    "            \"date\": date.strftime(\"%Y-%m-%d\"),\n",
    "            \"city\": city[\"city\"],\n",
    "            \"latitude\": city[\"lat\"],\n",
    "            \"longitude\": city[\"lon\"],\n",
    "            \"pm25\": pm25,\n",
    "            \"pm10\": pm10,\n",
    "            \"o3\": o3,\n",
    "            \"no2\": no2,\n",
    "            \"so2\": so2,\n",
    "            \"co\": co,\n",
    "            \"aqi\": aqi,\n",
    "            \"temperature_c\": temp,\n",
    "            \"humidity_percent\": humidity,\n",
    "            \"wind_speed_mps\": wind_speed,\n",
    "            \"month\": month,\n",
    "            \"day\": date.day\n",
    "        })\n",
    "\n",
    "\n",
    "df = pd.DataFrame(records)\n",
    "\n",
    "print(f\"Dataset generated: {df.shape[0]} rows, {df.shape[1]} columns\")\n",
    "df.head()\n",
    "\n"
   ]
  },
  {
   "cell_type": "markdown",
   "id": "88f2e477",
   "metadata": {},
   "source": [
    "#### Importing the necessary libraries "
   ]
  },
  {
   "cell_type": "code",
   "execution_count": null,
   "id": "c0c8355a",
   "metadata": {},
   "outputs": [],
   "source": [
    "import matplotlib.pyplot as plt\n",
    "%matplotlib inline\n",
    "import seaborn as sns\n",
    "import warnings\n",
    "warnings.filterwarnings(\"ignore\")"
   ]
  },
  {
   "cell_type": "markdown",
   "id": "902f1f7e",
   "metadata": {},
   "source": [
    "#### Shape of the dataset"
   ]
  },
  {
   "cell_type": "code",
   "execution_count": 6,
   "id": "77c93ece",
   "metadata": {},
   "outputs": [
    {
     "data": {
      "text/plain": [
       "(9130, 16)"
      ]
     },
     "execution_count": 6,
     "metadata": {},
     "output_type": "execute_result"
    }
   ],
   "source": [
    "df.shape"
   ]
  },
  {
   "cell_type": "markdown",
   "id": "99a50337",
   "metadata": {},
   "source": [
    "Data Checks to perform\n",
    "\n",
    "- Check Missing values\n",
    "- Check Duplicates\n",
    "- Check data type\n",
    "- Check the number of unique values of each column\n",
    "- Check statistics of data set\n",
    "- Check various categories present in the different categorical column"
   ]
  },
  {
   "cell_type": "markdown",
   "id": "a76cf2fe",
   "metadata": {},
   "source": [
    "#### Check Missing values"
   ]
  },
  {
   "cell_type": "code",
   "execution_count": 8,
   "id": "9eb51913",
   "metadata": {},
   "outputs": [
    {
     "data": {
      "text/plain": [
       "date                0\n",
       "city                0\n",
       "latitude            0\n",
       "longitude           0\n",
       "pm25                0\n",
       "pm10                0\n",
       "o3                  0\n",
       "no2                 0\n",
       "so2                 0\n",
       "co                  0\n",
       "aqi                 0\n",
       "temperature_c       0\n",
       "humidity_percent    0\n",
       "wind_speed_mps      0\n",
       "month               0\n",
       "day                 0\n",
       "dtype: int64"
      ]
     },
     "execution_count": 8,
     "metadata": {},
     "output_type": "execute_result"
    }
   ],
   "source": [
    "df.isna().sum()"
   ]
  },
  {
   "cell_type": "markdown",
   "id": "a38e55fa",
   "metadata": {},
   "source": [
    "There are no missing values in the data set"
   ]
  },
  {
   "cell_type": "markdown",
   "id": "52bdc801",
   "metadata": {},
   "source": [
    "#### Check Duplicates "
   ]
  },
  {
   "cell_type": "code",
   "execution_count": 9,
   "id": "6732ddd1",
   "metadata": {},
   "outputs": [
    {
     "data": {
      "text/plain": [
       "np.int64(0)"
      ]
     },
     "execution_count": 9,
     "metadata": {},
     "output_type": "execute_result"
    }
   ],
   "source": [
    "df.duplicated().sum()"
   ]
  },
  {
   "cell_type": "markdown",
   "id": "1c49e7c5",
   "metadata": {},
   "source": [
    "There are no duplicates  values in the data set"
   ]
  },
  {
   "cell_type": "markdown",
   "id": "8edbb35b",
   "metadata": {},
   "source": [
    "#### Check data types"
   ]
  },
  {
   "cell_type": "code",
   "execution_count": 10,
   "id": "004cd2aa",
   "metadata": {},
   "outputs": [
    {
     "name": "stdout",
     "output_type": "stream",
     "text": [
      "<class 'pandas.core.frame.DataFrame'>\n",
      "RangeIndex: 9130 entries, 0 to 9129\n",
      "Data columns (total 16 columns):\n",
      " #   Column            Non-Null Count  Dtype  \n",
      "---  ------            --------------  -----  \n",
      " 0   date              9130 non-null   object \n",
      " 1   city              9130 non-null   object \n",
      " 2   latitude          9130 non-null   float64\n",
      " 3   longitude         9130 non-null   float64\n",
      " 4   pm25              9130 non-null   float64\n",
      " 5   pm10              9130 non-null   float64\n",
      " 6   o3                9130 non-null   float64\n",
      " 7   no2               9130 non-null   float64\n",
      " 8   so2               9130 non-null   float64\n",
      " 9   co                9130 non-null   float64\n",
      " 10  aqi               9130 non-null   int64  \n",
      " 11  temperature_c     9130 non-null   float64\n",
      " 12  humidity_percent  9130 non-null   float64\n",
      " 13  wind_speed_mps    9130 non-null   float64\n",
      " 14  month             9130 non-null   int64  \n",
      " 15  day               9130 non-null   int64  \n",
      "dtypes: float64(11), int64(3), object(2)\n",
      "memory usage: 1.1+ MB\n"
     ]
    }
   ],
   "source": [
    "df.info()"
   ]
  },
  {
   "cell_type": "markdown",
   "id": "2132ca43",
   "metadata": {},
   "source": [
    "#### Checking the number of unique values of each column"
   ]
  },
  {
   "cell_type": "code",
   "execution_count": 11,
   "id": "afae3e1c",
   "metadata": {},
   "outputs": [
    {
     "data": {
      "text/plain": [
       "date                1826\n",
       "city                   5\n",
       "latitude               5\n",
       "longitude              5\n",
       "pm25                1437\n",
       "pm10                2645\n",
       "o3                  3075\n",
       "no2                 2202\n",
       "so2                  593\n",
       "co                    61\n",
       "aqi                   45\n",
       "temperature_c       2419\n",
       "humidity_percent     601\n",
       "wind_speed_mps        96\n",
       "month                 12\n",
       "day                   31\n",
       "dtype: int64"
      ]
     },
     "execution_count": 11,
     "metadata": {},
     "output_type": "execute_result"
    }
   ],
   "source": [
    "df.nunique()"
   ]
  },
  {
   "cell_type": "markdown",
   "id": "4c8bacde",
   "metadata": {},
   "source": [
    "#### Check statistics of data set"
   ]
  },
  {
   "cell_type": "code",
   "execution_count": 12,
   "id": "8e99694b",
   "metadata": {},
   "outputs": [
    {
     "data": {
      "text/html": [
       "<div>\n",
       "<style scoped>\n",
       "    .dataframe tbody tr th:only-of-type {\n",
       "        vertical-align: middle;\n",
       "    }\n",
       "\n",
       "    .dataframe tbody tr th {\n",
       "        vertical-align: top;\n",
       "    }\n",
       "\n",
       "    .dataframe thead th {\n",
       "        text-align: right;\n",
       "    }\n",
       "</style>\n",
       "<table border=\"1\" class=\"dataframe\">\n",
       "  <thead>\n",
       "    <tr style=\"text-align: right;\">\n",
       "      <th></th>\n",
       "      <th>latitude</th>\n",
       "      <th>longitude</th>\n",
       "      <th>pm25</th>\n",
       "      <th>pm10</th>\n",
       "      <th>o3</th>\n",
       "      <th>no2</th>\n",
       "      <th>so2</th>\n",
       "      <th>co</th>\n",
       "      <th>aqi</th>\n",
       "      <th>temperature_c</th>\n",
       "      <th>humidity_percent</th>\n",
       "      <th>wind_speed_mps</th>\n",
       "      <th>month</th>\n",
       "      <th>day</th>\n",
       "    </tr>\n",
       "  </thead>\n",
       "  <tbody>\n",
       "    <tr>\n",
       "      <th>count</th>\n",
       "      <td>9130.000000</td>\n",
       "      <td>9130.000000</td>\n",
       "      <td>9130.000000</td>\n",
       "      <td>9130.000000</td>\n",
       "      <td>9130.000000</td>\n",
       "      <td>9130.000000</td>\n",
       "      <td>9130.000000</td>\n",
       "      <td>9130.000000</td>\n",
       "      <td>9130.000000</td>\n",
       "      <td>9130.000000</td>\n",
       "      <td>9130.000000</td>\n",
       "      <td>9130.000000</td>\n",
       "      <td>9130.000000</td>\n",
       "      <td>9130.000000</td>\n",
       "    </tr>\n",
       "    <tr>\n",
       "      <th>mean</th>\n",
       "      <td>34.809520</td>\n",
       "      <td>-95.035240</td>\n",
       "      <td>12.025487</td>\n",
       "      <td>24.962176</td>\n",
       "      <td>30.079262</td>\n",
       "      <td>19.936947</td>\n",
       "      <td>4.989940</td>\n",
       "      <td>0.497703</td>\n",
       "      <td>30.058488</td>\n",
       "      <td>15.079566</td>\n",
       "      <td>60.045181</td>\n",
       "      <td>5.267711</td>\n",
       "      <td>6.523549</td>\n",
       "      <td>15.727820</td>\n",
       "    </tr>\n",
       "    <tr>\n",
       "      <th>std</th>\n",
       "      <td>5.496573</td>\n",
       "      <td>16.900987</td>\n",
       "      <td>3.370121</td>\n",
       "      <td>6.727650</td>\n",
       "      <td>8.122108</td>\n",
       "      <td>5.379282</td>\n",
       "      <td>1.354437</td>\n",
       "      <td>0.136629</td>\n",
       "      <td>8.157374</td>\n",
       "      <td>6.186226</td>\n",
       "      <td>17.259138</td>\n",
       "      <td>2.734293</td>\n",
       "      <td>3.448722</td>\n",
       "      <td>8.799806</td>\n",
       "    </tr>\n",
       "    <tr>\n",
       "      <th>min</th>\n",
       "      <td>25.761700</td>\n",
       "      <td>-118.243700</td>\n",
       "      <td>4.610000</td>\n",
       "      <td>10.050000</td>\n",
       "      <td>12.010000</td>\n",
       "      <td>8.000000</td>\n",
       "      <td>2.000000</td>\n",
       "      <td>0.200000</td>\n",
       "      <td>8.000000</td>\n",
       "      <td>2.000000</td>\n",
       "      <td>30.000000</td>\n",
       "      <td>0.500000</td>\n",
       "      <td>1.000000</td>\n",
       "      <td>1.000000</td>\n",
       "    </tr>\n",
       "    <tr>\n",
       "      <th>25%</th>\n",
       "      <td>33.448400</td>\n",
       "      <td>-112.074000</td>\n",
       "      <td>9.500000</td>\n",
       "      <td>20.030000</td>\n",
       "      <td>24.190000</td>\n",
       "      <td>15.960000</td>\n",
       "      <td>3.980000</td>\n",
       "      <td>0.400000</td>\n",
       "      <td>24.000000</td>\n",
       "      <td>10.070000</td>\n",
       "      <td>45.000000</td>\n",
       "      <td>2.900000</td>\n",
       "      <td>4.000000</td>\n",
       "      <td>8.000000</td>\n",
       "    </tr>\n",
       "    <tr>\n",
       "      <th>50%</th>\n",
       "      <td>34.052200</td>\n",
       "      <td>-87.629800</td>\n",
       "      <td>12.080000</td>\n",
       "      <td>24.940000</td>\n",
       "      <td>30.020000</td>\n",
       "      <td>19.995000</td>\n",
       "      <td>4.990000</td>\n",
       "      <td>0.500000</td>\n",
       "      <td>30.000000</td>\n",
       "      <td>15.120000</td>\n",
       "      <td>60.000000</td>\n",
       "      <td>5.300000</td>\n",
       "      <td>7.000000</td>\n",
       "      <td>16.000000</td>\n",
       "    </tr>\n",
       "    <tr>\n",
       "      <th>75%</th>\n",
       "      <td>38.907200</td>\n",
       "      <td>-80.191800</td>\n",
       "      <td>14.550000</td>\n",
       "      <td>29.940000</td>\n",
       "      <td>36.010000</td>\n",
       "      <td>23.880000</td>\n",
       "      <td>6.000000</td>\n",
       "      <td>0.600000</td>\n",
       "      <td>36.000000</td>\n",
       "      <td>20.210000</td>\n",
       "      <td>75.000000</td>\n",
       "      <td>7.600000</td>\n",
       "      <td>10.000000</td>\n",
       "      <td>23.000000</td>\n",
       "    </tr>\n",
       "    <tr>\n",
       "      <th>max</th>\n",
       "      <td>41.878100</td>\n",
       "      <td>-77.036900</td>\n",
       "      <td>19.390000</td>\n",
       "      <td>39.990000</td>\n",
       "      <td>47.850000</td>\n",
       "      <td>31.980000</td>\n",
       "      <td>7.980000</td>\n",
       "      <td>0.800000</td>\n",
       "      <td>52.000000</td>\n",
       "      <td>27.990000</td>\n",
       "      <td>90.000000</td>\n",
       "      <td>10.000000</td>\n",
       "      <td>12.000000</td>\n",
       "      <td>31.000000</td>\n",
       "    </tr>\n",
       "  </tbody>\n",
       "</table>\n",
       "</div>"
      ],
      "text/plain": [
       "          latitude    longitude         pm25         pm10           o3  \\\n",
       "count  9130.000000  9130.000000  9130.000000  9130.000000  9130.000000   \n",
       "mean     34.809520   -95.035240    12.025487    24.962176    30.079262   \n",
       "std       5.496573    16.900987     3.370121     6.727650     8.122108   \n",
       "min      25.761700  -118.243700     4.610000    10.050000    12.010000   \n",
       "25%      33.448400  -112.074000     9.500000    20.030000    24.190000   \n",
       "50%      34.052200   -87.629800    12.080000    24.940000    30.020000   \n",
       "75%      38.907200   -80.191800    14.550000    29.940000    36.010000   \n",
       "max      41.878100   -77.036900    19.390000    39.990000    47.850000   \n",
       "\n",
       "               no2          so2           co          aqi  temperature_c  \\\n",
       "count  9130.000000  9130.000000  9130.000000  9130.000000    9130.000000   \n",
       "mean     19.936947     4.989940     0.497703    30.058488      15.079566   \n",
       "std       5.379282     1.354437     0.136629     8.157374       6.186226   \n",
       "min       8.000000     2.000000     0.200000     8.000000       2.000000   \n",
       "25%      15.960000     3.980000     0.400000    24.000000      10.070000   \n",
       "50%      19.995000     4.990000     0.500000    30.000000      15.120000   \n",
       "75%      23.880000     6.000000     0.600000    36.000000      20.210000   \n",
       "max      31.980000     7.980000     0.800000    52.000000      27.990000   \n",
       "\n",
       "       humidity_percent  wind_speed_mps        month          day  \n",
       "count       9130.000000     9130.000000  9130.000000  9130.000000  \n",
       "mean          60.045181        5.267711     6.523549    15.727820  \n",
       "std           17.259138        2.734293     3.448722     8.799806  \n",
       "min           30.000000        0.500000     1.000000     1.000000  \n",
       "25%           45.000000        2.900000     4.000000     8.000000  \n",
       "50%           60.000000        5.300000     7.000000    16.000000  \n",
       "75%           75.000000        7.600000    10.000000    23.000000  \n",
       "max           90.000000       10.000000    12.000000    31.000000  "
      ]
     },
     "execution_count": 12,
     "metadata": {},
     "output_type": "execute_result"
    }
   ],
   "source": [
    "df.describe()"
   ]
  },
  {
   "cell_type": "code",
   "execution_count": null,
   "id": "62365a17",
   "metadata": {},
   "outputs": [],
   "source": []
  }
 ],
 "metadata": {
  "kernelspec": {
   "display_name": "venv",
   "language": "python",
   "name": "python3"
  },
  "language_info": {
   "codemirror_mode": {
    "name": "ipython",
    "version": 3
   },
   "file_extension": ".py",
   "mimetype": "text/x-python",
   "name": "python",
   "nbconvert_exporter": "python",
   "pygments_lexer": "ipython3",
   "version": "3.13.3"
  }
 },
 "nbformat": 4,
 "nbformat_minor": 5
}
