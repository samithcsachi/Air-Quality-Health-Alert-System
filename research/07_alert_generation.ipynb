{
 "cells": [
  {
   "cell_type": "code",
   "execution_count": 1,
   "id": "ef638f81",
   "metadata": {},
   "outputs": [],
   "source": [
    "import os"
   ]
  },
  {
   "cell_type": "code",
   "execution_count": 2,
   "id": "1fe5b4b5",
   "metadata": {},
   "outputs": [
    {
     "data": {
      "text/plain": [
       "'d:\\\\SAMITH\\\\Github\\\\Air-Quality-Health-Alert-System\\\\research'"
      ]
     },
     "execution_count": 2,
     "metadata": {},
     "output_type": "execute_result"
    }
   ],
   "source": [
    "%pwd"
   ]
  },
  {
   "cell_type": "code",
   "execution_count": 3,
   "id": "a969db3b",
   "metadata": {},
   "outputs": [],
   "source": [
    "os.chdir(\"../\")"
   ]
  },
  {
   "cell_type": "code",
   "execution_count": 4,
   "id": "1acc6b30",
   "metadata": {},
   "outputs": [
    {
     "data": {
      "text/plain": [
       "'d:\\\\SAMITH\\\\Github\\\\Air-Quality-Health-Alert-System'"
      ]
     },
     "execution_count": 4,
     "metadata": {},
     "output_type": "execute_result"
    }
   ],
   "source": [
    "%pwd"
   ]
  },
  {
   "cell_type": "code",
   "execution_count": 5,
   "id": "74136f3d",
   "metadata": {},
   "outputs": [],
   "source": [
    "from dataclasses import dataclass\n",
    "from pathlib import Path\n",
    "\n",
    "@dataclass\n",
    "class AlertConfig:\n",
    "    root_dir: str\n",
    "    sensitive_threshold: int\n",
    "    general_threshold: int\n",
    "    notification_method: str\n",
    "    dashboard_refresh_interval_seconds: int = 60"
   ]
  },
  {
   "cell_type": "code",
   "execution_count": 6,
   "id": "01d7700a",
   "metadata": {},
   "outputs": [],
   "source": [
    "from Air_Quality_Health_Alert_System.constants import *\n",
    "from Air_Quality_Health_Alert_System.utils.common import read_yaml, create_directories"
   ]
  },
  {
   "cell_type": "code",
   "execution_count": 7,
   "id": "c15e70f8",
   "metadata": {},
   "outputs": [],
   "source": [
    "class ConfigurationManager:\n",
    "    def __init__(\n",
    "        self,\n",
    "        config_filepath=CONFIG_FILE_PATH,\n",
    "        params_filepath=PARAMS_FILE_PATH,\n",
    "        schema_filepath=SCHEMA_FILE_PATH):\n",
    "        self.config = read_yaml(config_filepath)\n",
    "        self.params = read_yaml(params_filepath)\n",
    "        self.schema = read_yaml(schema_filepath)\n",
    "        create_directories([self.config.artifacts_root])\n",
    "\n",
    "    def get_alert_generation_config(self) -> AlertConfig:\n",
    "        config = self.config.alert_generation\n",
    "        alert_config = AlertConfig(\n",
    "            root_dir=config.root_dir, \n",
    "            sensitive_threshold=config.sensitive_threshold,\n",
    "            general_threshold=config.general_threshold,\n",
    "            notification_method=config.notification_method,\n",
    "            dashboard_refresh_interval_seconds=config.dashboard.refresh_interval_seconds\n",
    "        )\n",
    "        return alert_config"
   ]
  },
  {
   "cell_type": "code",
   "execution_count": null,
   "id": "cfe42b18",
   "metadata": {},
   "outputs": [],
   "source": [
    "import os\n",
    "import sys\n",
    "import numpy as np\n",
    "import pandas as pd\n",
    "import joblib\n",
    "from sklearn.metrics import precision_score, recall_score, f1_score\n",
    "from Air_Quality_Health_Alert_System import logger"
   ]
  },
  {
   "cell_type": "code",
   "execution_count": null,
   "id": "c01deefe",
   "metadata": {},
   "outputs": [],
   "source": [
    "class AlertGenerator:\n",
    "    def __init__(self, config: AlertConfig):\n",
    "        self.config = config\n",
    "\n",
    "    def check_threshold(self, predicted_aqi):\n",
    "        sensitive_alert = predicted_aqi > self.config.sensitive_threshold\n",
    "        general_alert = predicted_aqi > self.config.general_threshold\n",
    "        messages = []\n",
    "        if sensitive_alert:\n",
    "            messages.append(\"Alert: AQI above sensitive threshold!\")\n",
    "        if general_alert:\n",
    "            messages.append(\"Alert: AQI above general threshold!\")\n",
    "        logger.info(f\"Thresholds checked: Sensitive Alert={sensitive_alert}, General Alert={general_alert}\")\n",
    "        return sensitive_alert, general_alert, messages\n",
    "\n",
    "    def get_alerts_for_dashboard(self, predicted_aqi):\n",
    "        _, _, messages = self.check_threshold(predicted_aqi)\n",
    "        return messages\n",
    "\n",
    "    def evaluate_alerts(self, predicted_aqi, actual_aqi):\n",
    "        if hasattr(predicted_aqi, 'values'):\n",
    "            predicted_aqi = predicted_aqi.values\n",
    "        if hasattr(actual_aqi, 'values'):\n",
    "            actual_aqi = actual_aqi.values\n",
    "            \n",
    "        y_true = (actual_aqi > self.config.sensitive_threshold).astype(int)\n",
    "        y_pred = (predicted_aqi > self.config.sensitive_threshold).astype(int)\n",
    "        logger.info(\"Alert evaluation metrics calculated successfully!\")\n",
    "        \n",
    "        return {\n",
    "            \"precision\": precision_score(y_true, y_pred, zero_division=0),\n",
    "            \"recall\": recall_score(y_true, y_pred, zero_division=0),\n",
    "            \"f1\": f1_score(y_true, y_pred, zero_division=0)\n",
    "        }\n"
   ]
  },
  {
   "cell_type": "code",
   "execution_count": 10,
   "id": "68b02676",
   "metadata": {},
   "outputs": [
    {
     "name": "stdout",
     "output_type": "stream",
     "text": [
      "[2025-08-22 11:51:11,953: INFO: common: yaml file: config\\config.yaml loaded successfully]\n",
      "[2025-08-22 11:51:11,958: INFO: common: yaml file: params.yaml loaded successfully]\n",
      "[2025-08-22 11:51:11,962: INFO: common: yaml file: schema.yaml loaded successfully]\n",
      "[2025-08-22 11:51:11,964: INFO: common: created directory at: artifacts]\n"
     ]
    }
   ],
   "source": [
    "try:\n",
    "    config = ConfigurationManager()\n",
    "    \n",
    "    alert_generation_config = config.get_alert_generation_config()\n",
    "    alert_generator = AlertGenerator(config=alert_generation_config)\n",
    "\n",
    "    model_artifacts = joblib.load(\"artifacts/model_trainer/model.joblib\")\n",
    "    test_data = joblib.load(\"artifacts/model_trainer/test_data.joblib\")\n",
    "\n",
    "    model = model_artifacts['model']\n",
    "    predicted_aqi = test_data['predictions']\n",
    "    actual_aqi = test_data['y_test']\n",
    "\n",
    "    \n",
    "    results = alert_generator.evaluate_alerts(predicted_aqi, actual_aqi)\n",
    "\n",
    "except Exception as e:\n",
    "    raise e"
   ]
  },
  {
   "cell_type": "code",
   "execution_count": null,
   "id": "249a350e",
   "metadata": {},
   "outputs": [],
   "source": []
  }
 ],
 "metadata": {
  "kernelspec": {
   "display_name": ".venv",
   "language": "python",
   "name": "python3"
  },
  "language_info": {
   "codemirror_mode": {
    "name": "ipython",
    "version": 3
   },
   "file_extension": ".py",
   "mimetype": "text/x-python",
   "name": "python",
   "nbconvert_exporter": "python",
   "pygments_lexer": "ipython3",
   "version": "3.13.3"
  }
 },
 "nbformat": 4,
 "nbformat_minor": 5
}
