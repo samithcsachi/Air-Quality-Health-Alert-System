{
 "cells": [
  {
   "cell_type": "code",
   "execution_count": 7,
   "id": "96eb8002",
   "metadata": {},
   "outputs": [
    {
     "name": "stdout",
     "output_type": "stream",
     "text": [
      "Fetching page 1...\n",
      "Error 404: {\"detail\":\"Not Found\"}\n",
      "Saved 0 records to london_air_quality.csv\n"
     ]
    }
   ],
   "source": [
    "import pandas as pd\n",
    "import requests \n",
    "\n",
    "\n",
    "API_KEY = \"4455cf542a88df6d95e3b32f6873945d1fb3ae96047198eafcbf3fbfe1011e21\"\n",
    "\n",
    "\n",
    "location_id = 141\n",
    "\n",
    "url = \"https://api.openaq.org/v3/measurements\"\n",
    "\n",
    "params = {\n",
    "    \"location_id\": location_id,\n",
    "    \"parameter\": [\"no2\", \"o3\", \"pm10\", \"pm25\"],  \n",
    "    \"date_from\": \"2016-01-30T00:00:00+00:00\",\n",
    "    \"date_to\": \"2025-08-13T00:00:00+00:00\",\n",
    "    \"limit\": 1000,\n",
    "    \"sort\": \"asc\",\n",
    "    \"page\": 1,\n",
    "}\n",
    "\n",
    "headers = {\"X-API-Key\": API_KEY}\n",
    "\n",
    "all_data = []\n",
    "\n",
    "while True:\n",
    "    print(f\"Fetching page {params['page']}...\")\n",
    "    res = requests.get(url, headers=headers, params=params)\n",
    "\n",
    "    if res.status_code != 200:\n",
    "        print(f\"Error {res.status_code}: {res.text}\")\n",
    "        break\n",
    "\n",
    "    data = res.json()\n",
    "\n",
    "    if \"results\" not in data or not data[\"results\"]:\n",
    "        print(\"No more data found.\")\n",
    "        break\n",
    "\n",
    "    all_data.extend(data[\"results\"])\n",
    "    params[\"page\"] += 1\n",
    "\n",
    "df = pd.DataFrame(all_data)\n",
    "df.to_csv(\"london_air_quality.csv\", index=False)\n",
    "\n",
    "print(f\"Saved {len(df)} records to london_air_quality.csv\")"
   ]
  },
  {
   "cell_type": "code",
   "execution_count": 6,
   "id": "bcf9a474",
   "metadata": {},
   "outputs": [
    {
     "name": "stdout",
     "output_type": "stream",
     "text": [
      "200\n",
      "{'meta': {'name': 'openaq-api', 'website': '/', 'page': 1, 'limit': 100, 'found': 1}, 'results': [{'id': 141, 'name': 'London Harlington', 'locality': 'London', 'timezone': 'Europe/London', 'country': {'id': 79, 'code': 'GB', 'name': 'United Kingdom'}, 'owner': {'id': 4, 'name': 'Unknown Governmental Organization'}, 'provider': {'id': 169, 'name': 'DEFRA'}, 'isMobile': False, 'isMonitor': True, 'instruments': [{'id': 2, 'name': 'Government Monitor'}], 'sensors': [{'id': 237, 'name': 'no2 µg/m³', 'parameter': {'id': 5, 'name': 'no2', 'units': 'µg/m³', 'displayName': 'NO₂ mass'}}, {'id': 259, 'name': 'o3 µg/m³', 'parameter': {'id': 3, 'name': 'o3', 'units': 'µg/m³', 'displayName': 'O₃ mass'}}, {'id': 217, 'name': 'pm10 µg/m³', 'parameter': {'id': 1, 'name': 'pm10', 'units': 'µg/m³', 'displayName': 'PM10'}}, {'id': 261, 'name': 'pm25 µg/m³', 'parameter': {'id': 2, 'name': 'pm25', 'units': 'µg/m³', 'displayName': 'PM2.5'}}], 'coordinates': {'latitude': 51.48879, 'longitude': -0.441614}, 'licenses': [{'id': 34, 'name': 'UK OGL \"Open Government License\"', 'attribution': {'name': 'Unknown Governmental Organization', 'url': None}, 'dateFrom': '2016-01-30', 'dateTo': None}], 'bounds': [-0.441614, 51.48879, -0.441614, 51.48879], 'distance': None, 'datetimeFirst': {'utc': '2016-01-30T01:00:00Z', 'local': '2016-01-30T01:00:00Z'}, 'datetimeLast': {'utc': '2025-08-13T14:00:00Z', 'local': '2025-08-13T15:00:00+01:00'}}]}\n"
     ]
    }
   ],
   "source": [
    "import requests\n",
    "\n",
    "API_KEY = \"4455cf542a88df6d95e3b32f6873945d1fb3ae96047198eafcbf3fbfe1011e21\"\n",
    "\n",
    "\n",
    "\n",
    "url = \"https://api.openaq.org/v3/locations/141\"  # Example: London Harlington\n",
    "headers = {\"X-API-Key\": API_KEY}\n",
    "\n",
    "res = requests.get(url, headers=headers)\n",
    "\n",
    "print(res.status_code)\n",
    "print(res.json())"
   ]
  },
  {
   "cell_type": "code",
   "execution_count": null,
   "id": "73977b4b",
   "metadata": {},
   "outputs": [],
   "source": []
  }
 ],
 "metadata": {
  "kernelspec": {
   "display_name": "venv",
   "language": "python",
   "name": "python3"
  },
  "language_info": {
   "codemirror_mode": {
    "name": "ipython",
    "version": 3
   },
   "file_extension": ".py",
   "mimetype": "text/x-python",
   "name": "python",
   "nbconvert_exporter": "python",
   "pygments_lexer": "ipython3",
   "version": "3.13.3"
  }
 },
 "nbformat": 4,
 "nbformat_minor": 5
}
