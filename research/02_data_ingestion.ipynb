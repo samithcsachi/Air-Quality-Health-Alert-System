{
 "cells": [
  {
   "cell_type": "code",
   "execution_count": 8,
   "id": "27883f19",
   "metadata": {},
   "outputs": [],
   "source": [
    "import os "
   ]
  },
  {
   "cell_type": "code",
   "execution_count": 9,
   "id": "57d80ed9",
   "metadata": {},
   "outputs": [
    {
     "data": {
      "text/plain": [
       "'d:\\\\SAMITH\\\\Github\\\\Air-Quality-Health-Alert-System\\\\research'"
      ]
     },
     "execution_count": 9,
     "metadata": {},
     "output_type": "execute_result"
    }
   ],
   "source": [
    "%pwd"
   ]
  },
  {
   "cell_type": "code",
   "execution_count": 10,
   "id": "3a23874f",
   "metadata": {},
   "outputs": [],
   "source": [
    "os.chdir(\"../\")"
   ]
  },
  {
   "cell_type": "code",
   "execution_count": 11,
   "id": "d4dd5324",
   "metadata": {},
   "outputs": [
    {
     "data": {
      "text/plain": [
       "'d:\\\\SAMITH\\\\Github\\\\Air-Quality-Health-Alert-System'"
      ]
     },
     "execution_count": 11,
     "metadata": {},
     "output_type": "execute_result"
    }
   ],
   "source": [
    "%pwd"
   ]
  },
  {
   "cell_type": "code",
   "execution_count": 27,
   "id": "b741fc66",
   "metadata": {},
   "outputs": [],
   "source": [
    "from dataclasses import dataclass\n",
    "from pathlib import Path\n",
    "\n",
    "@dataclass(frozen=True)\n",
    "class DataIngestionConfig:\n",
    "    root_dir: Path \n",
    "    source_URL: str \n",
    "    local_data_file: Path \n",
    "   \n"
   ]
  },
  {
   "cell_type": "code",
   "execution_count": 28,
   "id": "f499c411",
   "metadata": {},
   "outputs": [],
   "source": [
    "from Air_Quality_Health_Alert_System.constants import  *\n",
    "from Air_Quality_Health_Alert_System.utils.common import read_yaml, create_directories"
   ]
  },
  {
   "cell_type": "code",
   "execution_count": null,
   "id": "4b79f384",
   "metadata": {},
   "outputs": [],
   "source": [
    "class ConfigurationManager:\n",
    "    def __init__(\n",
    "        self,\n",
    "        config_filepath = CONFIG_FILE_PATH,\n",
    "        params_filepath = PARAMS_FILE_PATH):\n",
    "\n",
    "        self.config = read_yaml(config_filepath)\n",
    "        self.params = read_yaml(params_filepath)\n",
    "    \n",
    "\n",
    "        create_directories([self.config.artifacts_root])\n",
    "\n",
    "    def get_data_ingestion_config(self) -> DataIngestionConfig:\n",
    "        \"\"\"Method to get the data ingestion configuration\"\"\"\n",
    "        config = self.config.data_ingestion\n",
    "        create_directories([config.root_dir])\n",
    "        data_ingestion_config = DataIngestionConfig(\n",
    "            root_dir= config.root_dir,\n",
    "            source_URL=config.source_URL,\n",
    "            local_data_file=config.local_data_file,\n",
    "        )\n",
    "        return data_ingestion_config"
   ]
  },
  {
   "cell_type": "code",
   "execution_count": 30,
   "id": "f3619dee",
   "metadata": {},
   "outputs": [],
   "source": [
    "import os\n",
    "import urllib.request as request\n",
    "from Air_Quality_Health_Alert_System import logger\n",
    "from Air_Quality_Health_Alert_System.utils.common import get_size"
   ]
  },
  {
   "cell_type": "code",
   "execution_count": 31,
   "id": "92ea1da8",
   "metadata": {},
   "outputs": [],
   "source": [
    "class DataIngestion:\n",
    "    def __init__(self, config: DataIngestionConfig):\n",
    "        self.config = config\n",
    "\n",
    "    def download_file(self) -> str:\n",
    "    \n",
    "        local_path = Path(self.config.local_data_file)\n",
    "\n",
    "        # Ensure the parent directory exists\n",
    "        local_path.parent.mkdir(parents=True, exist_ok=True)\n",
    "\n",
    "        if not local_path.exists():\n",
    "            try:\n",
    "                filename, headers = request.urlretrieve(\n",
    "                    url=self.config.source_URL,\n",
    "                    filename=str(local_path)\n",
    "                )\n",
    "                logger.info(f\"{filename} downloaded with headers: \\n{headers}\")\n",
    "                return filename\n",
    "            except Exception as e:\n",
    "                logger.error(f\"Failed to download file: {e}\")\n",
    "                raise\n",
    "        else:\n",
    "            logger.info(f\"File already exists: {local_path}\")\n",
    "            return str(local_path)"
   ]
  },
  {
   "cell_type": "code",
   "execution_count": 32,
   "id": "e9207b82",
   "metadata": {},
   "outputs": [
    {
     "name": "stdout",
     "output_type": "stream",
     "text": [
      "[2025-08-14 23:14:54,333: INFO: common: yaml file: config\\config.yaml loaded successfully]\n",
      "[2025-08-14 23:14:54,337: INFO: common: yaml file: params.yaml loaded successfully]\n",
      "[2025-08-14 23:14:54,342: INFO: common: created directory at: artifacts]\n",
      "[2025-08-14 23:14:54,344: INFO: common: created directory at: artifacts/data_ingestion]\n",
      "[2025-08-14 23:14:54,347: INFO: 3398899755: File already exists: artifacts\\data_ingestion\\data\\Air_Quality_Data.csv]\n"
     ]
    }
   ],
   "source": [
    "try:\n",
    "    config = ConfigurationManager()\n",
    "    data_ingestion_config = config.get_data_ingestion_config()\n",
    "    data_ingestion = DataIngestion(config=data_ingestion_config)\n",
    "    data_ingestion.download_file()\n",
    "\n",
    "\n",
    "except Exception as e:\n",
    "    raise e"
   ]
  },
  {
   "cell_type": "code",
   "execution_count": null,
   "id": "b156e75b",
   "metadata": {},
   "outputs": [],
   "source": []
  }
 ],
 "metadata": {
  "kernelspec": {
   "display_name": "venv",
   "language": "python",
   "name": "python3"
  },
  "language_info": {
   "codemirror_mode": {
    "name": "ipython",
    "version": 3
   },
   "file_extension": ".py",
   "mimetype": "text/x-python",
   "name": "python",
   "nbconvert_exporter": "python",
   "pygments_lexer": "ipython3",
   "version": "3.13.3"
  }
 },
 "nbformat": 4,
 "nbformat_minor": 5
}
