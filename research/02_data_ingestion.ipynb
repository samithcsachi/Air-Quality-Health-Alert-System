{
 "cells": [
  {
   "cell_type": "code",
   "execution_count": 1,
   "id": "fddc8c18",
   "metadata": {},
   "outputs": [
    {
     "name": "stdout",
     "output_type": "stream",
     "text": [
      "Collecting faker\n",
      "  Downloading faker-37.5.3-py3-none-any.whl.metadata (15 kB)\n",
      "Requirement already satisfied: tzdata in d:\\samith\\github\\air-quality-health-alert-system\\venv\\lib\\site-packages (from faker) (2025.2)\n",
      "Downloading faker-37.5.3-py3-none-any.whl (1.9 MB)\n",
      "   ---------------------------------------- 0.0/1.9 MB ? eta -:--:--\n",
      "   ----- ---------------------------------- 0.3/1.9 MB ? eta -:--:--\n",
      "   ---------------- ----------------------- 0.8/1.9 MB 2.7 MB/s eta 0:00:01\n",
      "   -------------------------- ------------- 1.3/1.9 MB 2.8 MB/s eta 0:00:01\n",
      "   ---------------------------------------- 1.9/1.9 MB 2.5 MB/s  0:00:00\n",
      "Installing collected packages: faker\n",
      "Successfully installed faker-37.5.3\n",
      "Note: you may need to restart the kernel to use updated packages.\n"
     ]
    }
   ],
   "source": [
    "\n",
    "pip install faker \n"
   ]
  },
  {
   "cell_type": "code",
   "execution_count": 7,
   "id": "118429d5",
   "metadata": {},
   "outputs": [
    {
     "name": "stdout",
     "output_type": "stream",
     "text": [
      "Dataset generated: 9130 rows, 16 columns\n"
     ]
    },
    {
     "data": {
      "text/html": [
       "<div>\n",
       "<style scoped>\n",
       "    .dataframe tbody tr th:only-of-type {\n",
       "        vertical-align: middle;\n",
       "    }\n",
       "\n",
       "    .dataframe tbody tr th {\n",
       "        vertical-align: top;\n",
       "    }\n",
       "\n",
       "    .dataframe thead th {\n",
       "        text-align: right;\n",
       "    }\n",
       "</style>\n",
       "<table border=\"1\" class=\"dataframe\">\n",
       "  <thead>\n",
       "    <tr style=\"text-align: right;\">\n",
       "      <th></th>\n",
       "      <th>date</th>\n",
       "      <th>city</th>\n",
       "      <th>latitude</th>\n",
       "      <th>longitude</th>\n",
       "      <th>pm25</th>\n",
       "      <th>pm10</th>\n",
       "      <th>o3</th>\n",
       "      <th>no2</th>\n",
       "      <th>so2</th>\n",
       "      <th>co</th>\n",
       "      <th>aqi</th>\n",
       "      <th>temperature_c</th>\n",
       "      <th>humidity_percent</th>\n",
       "      <th>wind_speed_mps</th>\n",
       "      <th>month</th>\n",
       "      <th>day</th>\n",
       "    </tr>\n",
       "  </thead>\n",
       "  <tbody>\n",
       "    <tr>\n",
       "      <th>0</th>\n",
       "      <td>2019-01-01</td>\n",
       "      <td>Washington</td>\n",
       "      <td>38.9072</td>\n",
       "      <td>-77.0369</td>\n",
       "      <td>14.78</td>\n",
       "      <td>21.95</td>\n",
       "      <td>18.96</td>\n",
       "      <td>17.32</td>\n",
       "      <td>3.16</td>\n",
       "      <td>0.42</td>\n",
       "      <td>16</td>\n",
       "      <td>19.87</td>\n",
       "      <td>73.6</td>\n",
       "      <td>4.4</td>\n",
       "      <td>1</td>\n",
       "      <td>1</td>\n",
       "    </tr>\n",
       "    <tr>\n",
       "      <th>1</th>\n",
       "      <td>2019-01-02</td>\n",
       "      <td>Washington</td>\n",
       "      <td>38.9072</td>\n",
       "      <td>-77.0369</td>\n",
       "      <td>16.93</td>\n",
       "      <td>19.94</td>\n",
       "      <td>23.33</td>\n",
       "      <td>20.76</td>\n",
       "      <td>4.36</td>\n",
       "      <td>0.38</td>\n",
       "      <td>21</td>\n",
       "      <td>23.59</td>\n",
       "      <td>85.3</td>\n",
       "      <td>1.9</td>\n",
       "      <td>1</td>\n",
       "      <td>2</td>\n",
       "    </tr>\n",
       "    <tr>\n",
       "      <th>2</th>\n",
       "      <td>2019-01-03</td>\n",
       "      <td>Washington</td>\n",
       "      <td>38.9072</td>\n",
       "      <td>-77.0369</td>\n",
       "      <td>10.49</td>\n",
       "      <td>28.68</td>\n",
       "      <td>35.70</td>\n",
       "      <td>12.64</td>\n",
       "      <td>4.97</td>\n",
       "      <td>0.38</td>\n",
       "      <td>34</td>\n",
       "      <td>10.47</td>\n",
       "      <td>81.5</td>\n",
       "      <td>3.4</td>\n",
       "      <td>1</td>\n",
       "      <td>3</td>\n",
       "    </tr>\n",
       "    <tr>\n",
       "      <th>3</th>\n",
       "      <td>2019-01-04</td>\n",
       "      <td>Washington</td>\n",
       "      <td>38.9072</td>\n",
       "      <td>-77.0369</td>\n",
       "      <td>13.26</td>\n",
       "      <td>26.76</td>\n",
       "      <td>37.11</td>\n",
       "      <td>13.01</td>\n",
       "      <td>5.45</td>\n",
       "      <td>0.57</td>\n",
       "      <td>41</td>\n",
       "      <td>20.34</td>\n",
       "      <td>63.2</td>\n",
       "      <td>4.8</td>\n",
       "      <td>1</td>\n",
       "      <td>4</td>\n",
       "    </tr>\n",
       "    <tr>\n",
       "      <th>4</th>\n",
       "      <td>2019-01-05</td>\n",
       "      <td>Washington</td>\n",
       "      <td>38.9072</td>\n",
       "      <td>-77.0369</td>\n",
       "      <td>15.19</td>\n",
       "      <td>26.45</td>\n",
       "      <td>18.18</td>\n",
       "      <td>14.92</td>\n",
       "      <td>6.13</td>\n",
       "      <td>0.45</td>\n",
       "      <td>20</td>\n",
       "      <td>15.64</td>\n",
       "      <td>77.4</td>\n",
       "      <td>5.6</td>\n",
       "      <td>1</td>\n",
       "      <td>5</td>\n",
       "    </tr>\n",
       "  </tbody>\n",
       "</table>\n",
       "</div>"
      ],
      "text/plain": [
       "         date        city  latitude  longitude   pm25   pm10     o3    no2  \\\n",
       "0  2019-01-01  Washington   38.9072   -77.0369  14.78  21.95  18.96  17.32   \n",
       "1  2019-01-02  Washington   38.9072   -77.0369  16.93  19.94  23.33  20.76   \n",
       "2  2019-01-03  Washington   38.9072   -77.0369  10.49  28.68  35.70  12.64   \n",
       "3  2019-01-04  Washington   38.9072   -77.0369  13.26  26.76  37.11  13.01   \n",
       "4  2019-01-05  Washington   38.9072   -77.0369  15.19  26.45  18.18  14.92   \n",
       "\n",
       "    so2    co  aqi  temperature_c  humidity_percent  wind_speed_mps  month  \\\n",
       "0  3.16  0.42   16          19.87              73.6             4.4      1   \n",
       "1  4.36  0.38   21          23.59              85.3             1.9      1   \n",
       "2  4.97  0.38   34          10.47              81.5             3.4      1   \n",
       "3  5.45  0.57   41          20.34              63.2             4.8      1   \n",
       "4  6.13  0.45   20          15.64              77.4             5.6      1   \n",
       "\n",
       "   day  \n",
       "0    1  \n",
       "1    2  \n",
       "2    3  \n",
       "3    4  \n",
       "4    5  "
      ]
     },
     "execution_count": 7,
     "metadata": {},
     "output_type": "execute_result"
    }
   ],
   "source": [
    "import pandas as pd\n",
    "import numpy as np\n",
    "from faker import Faker\n",
    "import random\n",
    "from datetime import datetime, timedelta\n",
    "\n",
    "\n",
    "fake = Faker()\n",
    "\n",
    "\n",
    "cities = [\n",
    "    {\"city\": \"Washington\", \"lat\": 38.9072, \"lon\": -77.0369},\n",
    "    {\"city\": \"Los Angeles\", \"lat\": 34.0522, \"lon\": -118.2437},\n",
    "    {\"city\": \"Chicago\", \"lat\": 41.8781, \"lon\": -87.6298},\n",
    "    {\"city\": \"Miami\", \"lat\": 25.7617, \"lon\": -80.1918},\n",
    "    {\"city\": \"Phoenix\", \"lat\": 33.4484, \"lon\": -112.0740},\n",
    "]\n",
    "\n",
    "start_date = datetime(2019, 1, 1)\n",
    "end_date = datetime(2023, 12, 31)\n",
    "\n",
    "\n",
    "date_range = pd.date_range(start=start_date, end=end_date, freq='D')\n",
    "\n",
    "# Function to simulate pollutant values with some seasonal variation\n",
    "def seasonal_value(base, variation, month):\n",
    "    seasonal_factor = 1 + 0.2 * np.sin((month - 1) / 12 * 2 * np.pi)  # seasonal cycle\n",
    "    return round(np.clip(base * seasonal_factor + random.uniform(-variation, variation), 0, None), 2)\n",
    "\n",
    "\n",
    "records = []\n",
    "\n",
    "for city in cities:\n",
    "    for date in date_range:\n",
    "        month = date.month\n",
    "        \n",
    "   \n",
    "        pm25 = seasonal_value(12, 5, month)\n",
    "        pm10 = seasonal_value(25, 10, month)\n",
    "        o3 = seasonal_value(30, 12, month)\n",
    "        no2 = seasonal_value(20, 8, month)\n",
    "        so2 = seasonal_value(5, 2, month)\n",
    "        co = seasonal_value(0.5, 0.2, month)\n",
    "        \n",
    "        \n",
    "        aqi = int(max(pm25, pm10/2, o3, no2) + random.uniform(-5, 5))\n",
    "        aqi = np.clip(aqi, 0, 500)\n",
    "        \n",
    "       \n",
    "        temp = seasonal_value(15, 10, month)  # °C\n",
    "        humidity = round(random.uniform(30, 90), 1)  # %\n",
    "        wind_speed = round(random.uniform(0.5, 10), 1)  # m/s\n",
    "        \n",
    "        records.append({\n",
    "            \"date\": date.strftime(\"%Y-%m-%d\"),\n",
    "            \"city\": city[\"city\"],\n",
    "            \"latitude\": city[\"lat\"],\n",
    "            \"longitude\": city[\"lon\"],\n",
    "            \"pm25\": pm25,\n",
    "            \"pm10\": pm10,\n",
    "            \"o3\": o3,\n",
    "            \"no2\": no2,\n",
    "            \"so2\": so2,\n",
    "            \"co\": co,\n",
    "            \"aqi\": aqi,\n",
    "            \"temperature_c\": temp,\n",
    "            \"humidity_percent\": humidity,\n",
    "            \"wind_speed_mps\": wind_speed,\n",
    "            \"month\": month,\n",
    "            \"day\": date.day\n",
    "        })\n",
    "\n",
    "\n",
    "df = pd.DataFrame(records)\n",
    "df.to_csv(\"Air_Quality_Data.csv\", index=False)\n",
    "\n",
    "print(f\"Dataset generated: {df.shape[0]} rows, {df.shape[1]} columns\")\n",
    "df.head()\n",
    "\n"
   ]
  },
  {
   "cell_type": "code",
   "execution_count": 8,
   "id": "27883f19",
   "metadata": {},
   "outputs": [],
   "source": [
    "import os "
   ]
  },
  {
   "cell_type": "code",
   "execution_count": 9,
   "id": "57d80ed9",
   "metadata": {},
   "outputs": [
    {
     "data": {
      "text/plain": [
       "'d:\\\\SAMITH\\\\Github\\\\Air-Quality-Health-Alert-System\\\\research'"
      ]
     },
     "execution_count": 9,
     "metadata": {},
     "output_type": "execute_result"
    }
   ],
   "source": [
    "%pwd"
   ]
  },
  {
   "cell_type": "code",
   "execution_count": 10,
   "id": "3a23874f",
   "metadata": {},
   "outputs": [],
   "source": [
    "os.chdir(\"../\")"
   ]
  },
  {
   "cell_type": "code",
   "execution_count": 11,
   "id": "d4dd5324",
   "metadata": {},
   "outputs": [
    {
     "data": {
      "text/plain": [
       "'d:\\\\SAMITH\\\\Github\\\\Air-Quality-Health-Alert-System'"
      ]
     },
     "execution_count": 11,
     "metadata": {},
     "output_type": "execute_result"
    }
   ],
   "source": [
    "%pwd"
   ]
  },
  {
   "cell_type": "code",
   "execution_count": 27,
   "id": "b741fc66",
   "metadata": {},
   "outputs": [],
   "source": [
    "from dataclasses import dataclass\n",
    "from pathlib import Path\n",
    "\n",
    "@dataclass(frozen=True)\n",
    "class DataIngestionConfig:\n",
    "    root_dir: Path \n",
    "    source_URL: str \n",
    "    local_data_file: Path \n",
    "   \n"
   ]
  },
  {
   "cell_type": "code",
   "execution_count": 28,
   "id": "f499c411",
   "metadata": {},
   "outputs": [],
   "source": [
    "from Air_Quality_Health_Alert_System.constants import  *\n",
    "from Air_Quality_Health_Alert_System.utils.common import read_yaml, create_directories"
   ]
  },
  {
   "cell_type": "code",
   "execution_count": null,
   "id": "4b79f384",
   "metadata": {},
   "outputs": [],
   "source": [
    "class ConfigurationManager:\n",
    "    def __init__(\n",
    "        self,\n",
    "        config_filepath = CONFIG_FILE_PATH,\n",
    "        params_filepath = PARAMS_FILE_PATH):\n",
    "\n",
    "        self.config = read_yaml(config_filepath)\n",
    "        self.params = read_yaml(params_filepath)\n",
    "    \n",
    "\n",
    "        create_directories([self.config.artifacts_root])\n",
    "\n",
    "    def get_data_ingestion_config(self) -> DataIngestionConfig:\n",
    "        \"\"\"Method to get the data ingestion configuration\"\"\"\n",
    "        config = self.config.data_ingestion\n",
    "        create_directories([config.root_dir])\n",
    "        data_ingestion_config = DataIngestionConfig(\n",
    "            root_dir= config.root_dir,\n",
    "            source_URL=config.source_URL,\n",
    "            local_data_file=config.local_data_file,\n",
    "        )\n",
    "        return data_ingestion_config"
   ]
  },
  {
   "cell_type": "code",
   "execution_count": 30,
   "id": "f3619dee",
   "metadata": {},
   "outputs": [],
   "source": [
    "import os\n",
    "import urllib.request as request\n",
    "from Air_Quality_Health_Alert_System import logger\n",
    "from Air_Quality_Health_Alert_System.utils.common import get_size"
   ]
  },
  {
   "cell_type": "code",
   "execution_count": 31,
   "id": "92ea1da8",
   "metadata": {},
   "outputs": [],
   "source": [
    "class DataIngestion:\n",
    "    def __init__(self, config: DataIngestionConfig):\n",
    "        self.config = config\n",
    "\n",
    "    def download_file(self) -> str:\n",
    "    \n",
    "        local_path = Path(self.config.local_data_file)\n",
    "\n",
    "        # Ensure the parent directory exists\n",
    "        local_path.parent.mkdir(parents=True, exist_ok=True)\n",
    "\n",
    "        if not local_path.exists():\n",
    "            try:\n",
    "                filename, headers = request.urlretrieve(\n",
    "                    url=self.config.source_URL,\n",
    "                    filename=str(local_path)\n",
    "                )\n",
    "                logger.info(f\"{filename} downloaded with headers: \\n{headers}\")\n",
    "                return filename\n",
    "            except Exception as e:\n",
    "                logger.error(f\"Failed to download file: {e}\")\n",
    "                raise\n",
    "        else:\n",
    "            logger.info(f\"File already exists: {local_path}\")\n",
    "            return str(local_path)"
   ]
  },
  {
   "cell_type": "code",
   "execution_count": 32,
   "id": "e9207b82",
   "metadata": {},
   "outputs": [
    {
     "name": "stdout",
     "output_type": "stream",
     "text": [
      "[2025-08-14 23:14:54,333: INFO: common: yaml file: config\\config.yaml loaded successfully]\n",
      "[2025-08-14 23:14:54,337: INFO: common: yaml file: params.yaml loaded successfully]\n",
      "[2025-08-14 23:14:54,342: INFO: common: created directory at: artifacts]\n",
      "[2025-08-14 23:14:54,344: INFO: common: created directory at: artifacts/data_ingestion]\n",
      "[2025-08-14 23:14:54,347: INFO: 3398899755: File already exists: artifacts\\data_ingestion\\data\\Air_Quality_Data.csv]\n"
     ]
    }
   ],
   "source": [
    "try:\n",
    "    config = ConfigurationManager()\n",
    "    data_ingestion_config = config.get_data_ingestion_config()\n",
    "    data_ingestion = DataIngestion(config=data_ingestion_config)\n",
    "    data_ingestion.download_file()\n",
    "\n",
    "\n",
    "except Exception as e:\n",
    "    raise e"
   ]
  },
  {
   "cell_type": "code",
   "execution_count": null,
   "id": "b156e75b",
   "metadata": {},
   "outputs": [],
   "source": []
  }
 ],
 "metadata": {
  "kernelspec": {
   "display_name": "venv",
   "language": "python",
   "name": "python3"
  },
  "language_info": {
   "codemirror_mode": {
    "name": "ipython",
    "version": 3
   },
   "file_extension": ".py",
   "mimetype": "text/x-python",
   "name": "python",
   "nbconvert_exporter": "python",
   "pygments_lexer": "ipython3",
   "version": "3.13.3"
  }
 },
 "nbformat": 4,
 "nbformat_minor": 5
}
